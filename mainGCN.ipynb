{
 "cells": [
  {
   "cell_type": "code",
   "execution_count": 1,
   "metadata": {},
   "outputs": [
    {
     "name": "stdout",
     "output_type": "stream",
     "text": [
      "Loading cora dataset...\n",
      "tensor(indices=tensor([[   0,    8,   14,  ..., 1389, 2344, 2707],\n",
      "                       [   0,    0,    0,  ..., 2707, 2707, 2707]]),\n",
      "       values=tensor([0.1667, 0.1667, 0.0500,  ..., 0.2000, 0.5000, 0.2500]),\n",
      "       size=(2708, 2708), nnz=13264, layout=torch.sparse_coo)\n"
     ]
    }
   ],
   "source": [
    "from __future__ import division\n",
    "from __future__ import print_function\n",
    "\n",
    "import os\n",
    "import time\n",
    "import argparse\n",
    "import numpy as np\n",
    "\n",
    "import torch\n",
    "import torch.nn.functional as F\n",
    "import torch.optim as optim\n",
    "import scipy.sparse as sp # To test function load_data in utils.py\n",
    "\n",
    "from pygcn.utils import load_data, accuracy\n",
    "from pygcn.models import GCN\n",
    "\n",
    "# Training settings\n",
    "parser = argparse.ArgumentParser()\n",
    "parser.add_argument('--no-cuda', action='store_true', default=False,\n",
    "                    help='Disables CUDA training.')\n",
    "parser.add_argument('--fastmode', action='store_true', default=False,\n",
    "                    help='Validate during training pass.')\n",
    "parser.add_argument('--seed', type=int, default=42, help='Random seed.')\n",
    "parser.add_argument('--epochs', type=int, default=200,\n",
    "                    help='Number of epochs to train.')\n",
    "parser.add_argument('--lr', type=float, default=0.01,\n",
    "                    help='Initial learning rate.')\n",
    "parser.add_argument('--weight_decay', type=float, default=5e-4,\n",
    "                    help='Weight decay (L2 loss on parameters).')\n",
    "parser.add_argument('--hidden', type=int, default=16,\n",
    "                    help='Number of hidden units.')\n",
    "parser.add_argument('--dropout', type=float, default=0.5,\n",
    "                    help='Dropout rate (1 - keep probability).')\n",
    "#parser.add_argument(\"-f\", \"--fff\", help=\"a dummy argument to fool ipython\", default=\"1\") ## Solution 1: To fix the argparse issue of Jupyter Notebook\n",
    "#args = parser.parse_args() ## Solution 2:  to fix the argparse issue of Jupyter Notebook -- Replaced by args, unknown = parser.parse_known_args()\n",
    "args, unknown = parser.parse_known_args()\n",
    "args.cuda = not args.no_cuda and torch.cuda.is_available()\n",
    "\n",
    "np.random.seed(args.seed)\n",
    "torch.manual_seed(args.seed)\n",
    "if args.cuda:\n",
    "    torch.cuda.manual_seed(args.seed)\n",
    "\n",
    "# Load data\n",
    "adj, features, labels, idx_train, idx_val, idx_test = load_data()\n",
    "print(adj)\n",
    "\n"
   ]
  },
  {
   "cell_type": "code",
   "execution_count": 4,
   "metadata": {},
   "outputs": [
    {
     "name": "stdout",
     "output_type": "stream",
     "text": [
      "Loading cora dataset...\n",
      "  (0, 8)\t1.0\n",
      "  (0, 14)\t1.0\n",
      "  (0, 258)\t1.0\n",
      "  (0, 435)\t1.0\n",
      "  (0, 544)\t1.0\n",
      "  (1, 344)\t1.0\n",
      "  (2, 410)\t1.0\n",
      "  (2, 471)\t1.0\n",
      "  (2, 552)\t1.0\n",
      "  (2, 565)\t1.0\n",
      "  (3, 197)\t1.0\n",
      "  (3, 463)\t1.0\n",
      "  (3, 601)\t1.0\n",
      "  (4, 170)\t1.0\n",
      "  (5, 490)\t1.0\n",
      "  (5, 2164)\t1.0\n",
      "  (6, 251)\t1.0\n",
      "  (6, 490)\t1.0\n",
      "  (7, 258)\t1.0\n",
      "  (8, 0)\t1.0\n",
      "  (8, 14)\t1.0\n",
      "  (8, 258)\t1.0\n",
      "  (8, 435)\t1.0\n",
      "  (8, 751)\t1.0\n",
      "  (9, 308)\t1.0\n",
      "  :\t:\n",
      "  (2698, 2697)\t1.0\n",
      "  (2698, 2700)\t1.0\n",
      "  (2699, 2153)\t1.0\n",
      "  (2700, 2697)\t1.0\n",
      "  (2700, 2698)\t1.0\n",
      "  (2701, 2247)\t1.0\n",
      "  (2701, 2263)\t1.0\n",
      "  (2702, 881)\t1.0\n",
      "  (2702, 2624)\t1.0\n",
      "  (2703, 1221)\t1.0\n",
      "  (2703, 1409)\t1.0\n",
      "  (2703, 2200)\t1.0\n",
      "  (2704, 209)\t1.0\n",
      "  (2704, 2407)\t1.0\n",
      "  (2705, 1784)\t1.0\n",
      "  (2705, 1839)\t1.0\n",
      "  (2705, 1840)\t1.0\n",
      "  (2705, 2216)\t1.0\n",
      "  (2706, 1046)\t1.0\n",
      "  (2706, 1138)\t1.0\n",
      "  (2706, 1640)\t1.0\n",
      "  (2706, 1752)\t1.0\n",
      "  (2707, 774)\t1.0\n",
      "  (2707, 1389)\t1.0\n",
      "  (2707, 2344)\t1.0\n",
      "  (0, 8)\t1.0\n",
      "  (0, 14)\t1.0\n",
      "  (0, 258)\t1.0\n",
      "  (0, 435)\t1.0\n",
      "  (0, 544)\t1.0\n",
      "  (1, 344)\t1.0\n",
      "  (2, 410)\t1.0\n",
      "  (2, 471)\t1.0\n",
      "  (2, 552)\t1.0\n",
      "  (2, 565)\t1.0\n",
      "  (3, 197)\t1.0\n",
      "  (3, 463)\t1.0\n",
      "  (3, 601)\t1.0\n",
      "  (4, 170)\t1.0\n",
      "  (5, 490)\t1.0\n",
      "  (5, 2164)\t1.0\n",
      "  (6, 251)\t1.0\n",
      "  (6, 490)\t1.0\n",
      "  (7, 258)\t1.0\n",
      "  (8, 0)\t1.0\n",
      "  (8, 14)\t1.0\n",
      "  (8, 258)\t1.0\n",
      "  (8, 435)\t1.0\n",
      "  (8, 751)\t1.0\n",
      "  (9, 308)\t1.0\n",
      "  :\t:\n",
      "  (2698, 2697)\t1.0\n",
      "  (2698, 2700)\t1.0\n",
      "  (2699, 2153)\t1.0\n",
      "  (2700, 2697)\t1.0\n",
      "  (2700, 2698)\t1.0\n",
      "  (2701, 2247)\t1.0\n",
      "  (2701, 2263)\t1.0\n",
      "  (2702, 881)\t1.0\n",
      "  (2702, 2624)\t1.0\n",
      "  (2703, 1221)\t1.0\n",
      "  (2703, 1409)\t1.0\n",
      "  (2703, 2200)\t1.0\n",
      "  (2704, 209)\t1.0\n",
      "  (2704, 2407)\t1.0\n",
      "  (2705, 1784)\t1.0\n",
      "  (2705, 1839)\t1.0\n",
      "  (2705, 1840)\t1.0\n",
      "  (2705, 2216)\t1.0\n",
      "  (2706, 1046)\t1.0\n",
      "  (2706, 1138)\t1.0\n",
      "  (2706, 1640)\t1.0\n",
      "  (2706, 1752)\t1.0\n",
      "  (2707, 774)\t1.0\n",
      "  (2707, 1389)\t1.0\n",
      "  (2707, 2344)\t1.0\n"
     ]
    }
   ],
   "source": [
    "# Test load_data function in utils.py\n",
    "def encode_onehot(labels):\n",
    "    classes = set(labels)\n",
    "    classes_dict = {c: np.identity(len(classes))[i, :] for i, c in\n",
    "                    enumerate(classes)}\n",
    "    labels_onehot = np.array(list(map(classes_dict.get, labels)),\n",
    "                             dtype=np.int32)\n",
    "    return labels_onehot\n",
    "path = os.path.join(os.getcwd(),'pygcn/data/cora/')\n",
    "dataset=\"cora\"\n",
    "\n",
    "    ## Replace path = \"../data/cora/\" by the absolute path: \n",
    "    ## path = os.path.join(os.path.dirname(os.path.abspath(__file__)),'data/cora/')\n",
    "###    \"\"\"Load citation network dataset (cora only for now)\"\"\"\n",
    "print('Loading {} dataset...'.format(dataset))\n",
    "    \n",
    "idx_features_labels = np.genfromtxt(\"{}{}.content\".format(path, dataset), dtype=np.dtype(str))\n",
    "features = sp.csr_matrix(idx_features_labels[:, 1:-1], dtype=np.float32)\n",
    "labels = encode_onehot(idx_features_labels[:, -1])\n",
    "\n",
    "    # build graph\n",
    "idx = np.array(idx_features_labels[:, 0], dtype=np.int32)\n",
    "idx_map = {j: i for i, j in enumerate(idx)}\n",
    "edges_unordered = np.genfromtxt(\"{}{}.cites\".format(path, dataset), dtype=np.int32)\n",
    "edges = np.array(list(map(idx_map.get, edges_unordered.flatten())), dtype=np.int32).reshape(edges_unordered.shape)\n",
    "adj = sp.coo_matrix((np.ones(edges.shape[0]), (edges[:, 0], edges[:, 1])),\n",
    "                        shape=(labels.shape[0], labels.shape[0]),\n",
    "                        dtype=np.float32)\n",
    "\n",
    "    # build symmetric adjacency matrix\n",
    "adj = adj + adj.T.multiply(adj.T > adj) - adj.multiply(adj.T > adj)\n",
    "adj = sp.csr_matrix(adj)\n",
    "adj2 = sp.csr_matrix.multiply(adj,adj)\n",
    "print(adj)\n",
    "print(adj2)"
   ]
  },
  {
   "cell_type": "code",
   "execution_count": 16,
   "metadata": {},
   "outputs": [],
   "source": [
    "def sp_square(adj):\n",
    "    '''Perform square operation on COO-sparsed matrix'''\n",
    "    adj_csr = sp.csr_matrix(adj)\n",
    "    return sp.csr_matrix.dot(adj_csr, adj_csr)"
   ]
  },
  {
   "cell_type": "code",
   "execution_count": 17,
   "metadata": {},
   "outputs": [],
   "source": [
    "from scipy.sparse import coo_matrix\n",
    "row = np.array([0, 0, 3, 4])\n",
    "col = np.array([0, 2, 2, 1])\n",
    "data = np.array([4, 5, 7, 9])"
   ]
  },
  {
   "cell_type": "code",
   "execution_count": 30,
   "metadata": {},
   "outputs": [
    {
     "data": {
      "text/plain": [
       "array([[4, 0, 5, 0, 0],\n",
       "       [0, 0, 0, 0, 0],\n",
       "       [0, 0, 0, 0, 0],\n",
       "       [0, 0, 7, 0, 0],\n",
       "       [0, 9, 0, 0, 0]])"
      ]
     },
     "execution_count": 30,
     "metadata": {},
     "output_type": "execute_result"
    }
   ],
   "source": [
    "#test\n",
    "a = coo_matrix((data, (row, col)), shape = (5, 5))\n",
    "a.toarray()"
   ]
  },
  {
   "cell_type": "code",
   "execution_count": 37,
   "metadata": {},
   "outputs": [
    {
     "name": "stdout",
     "output_type": "stream",
     "text": [
      "[[16  0 20  0  0]\n",
      " [ 0  0  0  0  0]\n",
      " [ 0  0  0  0  0]\n",
      " [ 0  0  0  0  0]\n",
      " [ 0  0  0  0  0]]\n",
      "[[0 0 0 0 0]\n",
      " [0 0 0 0 0]\n",
      " [0 0 0 0 0]\n",
      " [0 0 0 0 0]\n",
      " [0 0 0 0 0]]\n",
      "OK!\n"
     ]
    }
   ],
   "source": [
    "b = sp_square(a)\n",
    "print(b.toarray())\n",
    "print(np.dot(a.toarray(), a.toarray()) - b.toarray())\n",
    "assert((np.dot(a.toarray(), a.toarray()) == b.toarray()).all())\n",
    "print('OK!')"
   ]
  },
  {
   "cell_type": "code",
   "execution_count": 75,
   "metadata": {},
   "outputs": [],
   "source": [
    "def sp_second_tied(adj):\n",
    "    '''Input: adj in COO format; Output: adj second_tied in COO format'''\n",
    "    rows, cols = a.nonzero()\n",
    "    N = a.shape[0]\n",
    "    adj = [set() for i in range(N)] #adjacency list initialization\n",
    "    for i in range(len(rows)):\n",
    "        adj[rows[i]].add(cols[i])\n",
    "        adj[cols[i]].add(rows[i])\n",
    "    print(adj)\n",
    "    new_adj = adj.copy()\n",
    "    #new adjacency matrix: if (i, j) then new neighbors of i = old neighbors union neighbors of j\n",
    "    for i in range(len(adj)):\n",
    "        for j in adj[i]:\n",
    "            new_adj[i] = new_adj[i].union(adj[j])\n",
    "    #construct resulting matrix from new adjacency list\n",
    "    new_rows = []\n",
    "    new_cols = []\n",
    "    for i in range(len(new_adj)):\n",
    "        for j in new_adj[i]:\n",
    "            new_rows.append(i)\n",
    "            new_cols.append(j)\n",
    "    data = [1 for i in range(len(new_cols))]\n",
    "    b = coo_matrix((data, (new_rows, new_cols)), shape = (N, N)) \n",
    "    print(b.toarray())\n",
    "    return b\n",
    "        "
   ]
  },
  {
   "cell_type": "code",
   "execution_count": 44,
   "metadata": {},
   "outputs": [
    {
     "data": {
      "text/plain": [
       "(array([0, 0, 3, 4]), array([0, 2, 2, 1]))"
      ]
     },
     "execution_count": 44,
     "metadata": {},
     "output_type": "execute_result"
    }
   ],
   "source": [
    "a.nonzero()"
   ]
  },
  {
   "cell_type": "code",
   "execution_count": 45,
   "metadata": {},
   "outputs": [],
   "source": [
    "rows, cols = a.nonzero()"
   ]
  },
  {
   "cell_type": "code",
   "execution_count": 46,
   "metadata": {},
   "outputs": [
    {
     "data": {
      "text/plain": [
       "array([0, 0, 3, 4])"
      ]
     },
     "execution_count": 46,
     "metadata": {},
     "output_type": "execute_result"
    }
   ],
   "source": [
    "rows"
   ]
  },
  {
   "cell_type": "code",
   "execution_count": 47,
   "metadata": {},
   "outputs": [
    {
     "data": {
      "text/plain": [
       "(5, 5)"
      ]
     },
     "execution_count": 47,
     "metadata": {},
     "output_type": "execute_result"
    }
   ],
   "source": [
    "a.shape"
   ]
  },
  {
   "cell_type": "code",
   "execution_count": 67,
   "metadata": {},
   "outputs": [],
   "source": [
    "row = np.array([0, 0, 3, 4])\n",
    "col = np.array([0, 2, 2, 1])\n",
    "data = np.array([1, 1, 1, 1])\n",
    "a = coo_matrix((data, (row, col)), shape = (5, 5))"
   ]
  },
  {
   "cell_type": "code",
   "execution_count": 76,
   "metadata": {},
   "outputs": [
    {
     "name": "stdout",
     "output_type": "stream",
     "text": [
      "[{0, 2}, {4}, {0, 3}, {2}, {1}]\n",
      "[[1 0 1 1 0]\n",
      " [0 1 0 0 1]\n",
      " [1 0 1 1 0]\n",
      " [1 0 1 1 0]\n",
      " [0 1 0 0 1]]\n"
     ]
    },
    {
     "data": {
      "text/plain": [
       "<5x5 sparse matrix of type '<class 'numpy.int32'>'\n",
       "\twith 13 stored elements in COOrdinate format>"
      ]
     },
     "execution_count": 76,
     "metadata": {},
     "output_type": "execute_result"
    }
   ],
   "source": [
    "#test\n",
    "sp_second_tied(a)"
   ]
  },
  {
   "cell_type": "code",
   "execution_count": null,
   "metadata": {},
   "outputs": [],
   "source": []
  }
 ],
 "metadata": {
  "kernelspec": {
   "display_name": "Python 3",
   "language": "python",
   "name": "python3"
  },
  "language_info": {
   "codemirror_mode": {
    "name": "ipython",
    "version": 3
   },
   "file_extension": ".py",
   "mimetype": "text/x-python",
   "name": "python",
   "nbconvert_exporter": "python",
   "pygments_lexer": "ipython3",
   "version": "3.7.6"
  }
 },
 "nbformat": 4,
 "nbformat_minor": 2
}
